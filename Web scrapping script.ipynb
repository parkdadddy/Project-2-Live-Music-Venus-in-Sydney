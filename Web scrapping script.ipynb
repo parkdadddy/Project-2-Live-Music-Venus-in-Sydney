{
 "cells": [
  {
   "cell_type": "code",
   "execution_count": 95,
   "metadata": {},
   "outputs": [],
   "source": [
    "import pandas as pd\n",
    "from sqlalchemy import create_engine\n",
    "import psycopg2\n",
    "from bs4 import BeautifulSoup\n",
    "import requests\n",
    "from datetime import datetime,date\n",
    "import lxml"
   ]
  },
  {
   "cell_type": "code",
   "execution_count": 96,
   "metadata": {},
   "outputs": [
    {
     "name": "stdout",
     "output_type": "stream",
     "text": [
      "<Response [200]>\n"
     ]
    }
   ],
   "source": [
    "live_music_venue_url = \"https://www.eventfinda.com.au/venues/sydney/live-music\"\n",
    "response = requests.get(live_music_venue_url)\n",
    "print (response)\n",
    "\n",
    "soup = BeautifulSoup(response.text, 'lxml')\n",
    "\n",
    "\n",
    "venue_name = soup.find_all('a',{'class':\"url u-url org p-name fn\"})\n"
   ]
  },
  {
   "cell_type": "code",
   "execution_count": 97,
   "metadata": {},
   "outputs": [
    {
     "data": {
      "text/plain": [
       "'Mona Vale Hotel'"
      ]
     },
     "execution_count": 97,
     "metadata": {},
     "output_type": "execute_result"
    }
   ],
   "source": [
    "venue_name[0].text"
   ]
  },
  {
   "cell_type": "code",
   "execution_count": 98,
   "metadata": {},
   "outputs": [],
   "source": [
    "venue_name = [x.text for x in venue_name]"
   ]
  },
  {
   "cell_type": "code",
   "execution_count": 99,
   "metadata": {},
   "outputs": [],
   "source": [
    "venue_address = soup.find_all('span',{'class':\"p-street-address street-address\"})\n",
    "\n",
    "venue_address = [x.text for x in venue_address]\n"
   ]
  },
  {
   "cell_type": "code",
   "execution_count": 100,
   "metadata": {},
   "outputs": [
    {
     "data": {
      "text/plain": [
       "{'Mona Vale Hotel': 'Barrenjoey Road (Cnr Park St), Mona Vale, Sydney',\n",
       " 'Leadbelly Newtown': '42 King Street, Newtown, Sydney',\n",
       " 'Kings Cross Theatre - KXT': 'Level 2, Kings Cross Hotel, 244–248 William St, Kings Cross, Sydney',\n",
       " \"Max Watt's\": 'Building 220, 122 Lang Road, Moore Park, Sydney',\n",
       " 'Play Bar': 'Basement 72 Campbell Street, Surry Hills, Sydney',\n",
       " 'Proper Music Social ': '576 King Street Newtown, Newtown, Sydney',\n",
       " 'The Vanguard': '42 King St, Newtown, Sydney',\n",
       " 'Rock Lily': '80 Pyrmont Street, Pyrmont, Sydney',\n",
       " 'Blue Beat Live Club': '16 Cross Steet, Double Bay, Sydney',\n",
       " 'The Soda Factory': '16 Wentworth St, Surry Hills, Sydney',\n",
       " 'Crowbar Sydney': '345 Parramatta Rd, Leichhardt, Sydney',\n",
       " 'LazyBones Lounge Marrickville': '294 Marrickville Rd, Marrickville, Sydney',\n",
       " 'Name This Bar': '197 Oxford Sreet, Darlinghurst, Sydney CBD, Sydney',\n",
       " 'UTS Uni Bar - Glasshouse Bar': '15 Broadway, Ultimo, Sydney',\n",
       " 'The Juniors Malabar': '28 Victoria St., Malabar, Sydney',\n",
       " 'Soundworks Studios': '18-26 Faversham Street, Marrickville, Sydney',\n",
       " 'The Welcome Hotel': '91 Evans St, Rozelle NSW 2039, Rozelle, Sydney',\n",
       " 'The Russian Club': '5-7 Albert Rd, Strathfield NSW, Strathfield, Sydney',\n",
       " 'Belgrave Cartel': '6 Belgrave Street, Manly, Sydney',\n",
       " 'Riverside Theatres': 'Cnr Church and Market St, Parramatta, Sydney'}"
      ]
     },
     "execution_count": 100,
     "metadata": {},
     "output_type": "execute_result"
    }
   ],
   "source": [
    "first_page = dict(zip(venue_name,venue_address))\n",
    "\n",
    "first_page"
   ]
  },
  {
   "cell_type": "code",
   "execution_count": null,
   "metadata": {},
   "outputs": [],
   "source": []
  }
 ],
 "metadata": {
  "kernelspec": {
   "display_name": "Python 3",
   "language": "python",
   "name": "python3"
  },
  "language_info": {
   "codemirror_mode": {
    "name": "ipython",
    "version": 3
   },
   "file_extension": ".py",
   "mimetype": "text/x-python",
   "name": "python",
   "nbconvert_exporter": "python",
   "pygments_lexer": "ipython3",
   "version": "3.7.6"
  }
 },
 "nbformat": 4,
 "nbformat_minor": 4
}
