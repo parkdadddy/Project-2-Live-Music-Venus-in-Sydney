{
 "cells": [
  {
   "cell_type": "code",
   "execution_count": 71,
   "metadata": {},
   "outputs": [],
   "source": [
    "import pandas as pd\n",
    "from sqlalchemy import create_engine\n",
    "import psycopg2\n",
    "from bs4 import BeautifulSoup\n",
    "import requests\n",
    "from datetime import datetime,date\n",
    "import lxml"
   ]
  },
  {
   "cell_type": "code",
   "execution_count": 72,
   "metadata": {},
   "outputs": [
    {
     "name": "stdout",
     "output_type": "stream",
     "text": [
      "<Response [200]>\n"
     ]
    }
   ],
   "source": [
    "live_music_venue_url = \"https://www.eventfinda.com.au/venues/sydney/live-music\"\n",
    "response = requests.get(live_music_venue_url)\n",
    "print (response)\n",
    "\n",
    "soup = BeautifulSoup(response.text, 'lxml')\n",
    "\n",
    "\n",
    "venue_name = soup.find_all('a',{'class':\"url u-url org p-name fn\"})\n"
   ]
  },
  {
   "cell_type": "code",
   "execution_count": 73,
   "metadata": {},
   "outputs": [
    {
     "data": {
      "text/plain": [
       "'Mona Vale Hotel'"
      ]
     },
     "execution_count": 73,
     "metadata": {},
     "output_type": "execute_result"
    }
   ],
   "source": [
    "venue_name[0].text"
   ]
  },
  {
   "cell_type": "code",
   "execution_count": 74,
   "metadata": {},
   "outputs": [
    {
     "data": {
      "text/plain": [
       "['Mona Vale Hotel',\n",
       " 'Leadbelly Newtown',\n",
       " 'Kings Cross Theatre - KXT',\n",
       " \"Max Watt's\",\n",
       " 'Play Bar',\n",
       " 'Proper Music Social ',\n",
       " 'The Vanguard',\n",
       " 'Rock Lily',\n",
       " 'Blue Beat Live Club',\n",
       " 'The Soda Factory',\n",
       " 'Crowbar Sydney',\n",
       " 'LazyBones Lounge Marrickville',\n",
       " 'Name This Bar',\n",
       " 'UTS Uni Bar - Glasshouse Bar',\n",
       " 'The Juniors Malabar',\n",
       " 'Soundworks Studios',\n",
       " 'The Welcome Hotel',\n",
       " 'The Russian Club',\n",
       " 'Belgrave Cartel',\n",
       " 'Riverside Theatres']"
      ]
     },
     "execution_count": 74,
     "metadata": {},
     "output_type": "execute_result"
    }
   ],
   "source": [
    "venue_name = [x.text for x in venue_name]\n",
    "venue_name"
   ]
  },
  {
   "cell_type": "code",
   "execution_count": 75,
   "metadata": {},
   "outputs": [],
   "source": [
    "name_address = {}"
   ]
  },
  {
   "cell_type": "code",
   "execution_count": 76,
   "metadata": {},
   "outputs": [
    {
     "name": "stdout",
     "output_type": "stream",
     "text": [
      "[<div class=\"media-body\">\n",
      "<h3 class=\"media-heading\"><a class=\"url u-url org p-name fn\" href=\"/venue/mona-vale-hotel-sydney\">Mona Vale Hotel</a></h3>\n",
      "<p class=\"location p-adr h-adr adr\"><span class=\"p-street-address street-address\">Barrenjoey Road (Cnr Park St), Mona Vale, Sydney</span></p>\n",
      "<p>\n",
      "</p>\n",
      "</div>, <div class=\"media-body\">\n",
      "<h3 class=\"media-heading\"><a class=\"url u-url org p-name fn\" href=\"/venue/the-vanguard-newtown\">Leadbelly Newtown</a></h3>\n",
      "<p class=\"location p-adr h-adr adr\"><span class=\"p-street-address street-address\">42 King Street, Newtown, Sydney</span></p>\n",
      "<p>\n",
      "</p>\n",
      "</div>, <div class=\"media-body\">\n",
      "<h3 class=\"media-heading\"><a class=\"url u-url org p-name fn\" href=\"/venue/kings-cross-theatre-kxt-sydney\">Kings Cross Theatre - KXT</a></h3>\n",
      "<p class=\"location p-adr h-adr adr\"><span class=\"p-street-address street-address\">Level 2, Kings Cross Hotel, 244–248 William St, Kings Cross, Sydney</span></p>\n",
      "<p>\n",
      "</p>\n",
      "</div>, <div class=\"media-body\">\n",
      "<h3 class=\"media-heading\"><a class=\"url u-url org p-name fn\" href=\"/venue/max-watts-sydney\">Max Watt's</a></h3>\n",
      "<p class=\"location p-adr h-adr adr\"><span class=\"p-street-address street-address\">Building 220, 122 Lang Road, Moore Park, Sydney</span></p>\n",
      "<p>\n",
      "</p>\n",
      "</div>, <div class=\"media-body\">\n",
      "<h3 class=\"media-heading\"><a class=\"url u-url org p-name fn\" href=\"/venue/play-bar-sydney\">Play Bar</a></h3>\n",
      "<p class=\"location p-adr h-adr adr\"><span class=\"p-street-address street-address\">Basement 72 Campbell Street, Surry Hills, Sydney</span></p>\n",
      "<p>\n",
      "</p>\n",
      "</div>, <div class=\"media-body\">\n",
      "<h3 class=\"media-heading\"><a class=\"url u-url org p-name fn\" href=\"/venue/proper-music-social-sydney\">Proper Music Social </a></h3>\n",
      "<p class=\"location p-adr h-adr adr\"><span class=\"p-street-address street-address\">576 King Street Newtown, Newtown, Sydney</span></p>\n",
      "<p>\n",
      "</p>\n",
      "</div>, <div class=\"media-body\">\n",
      "<h3 class=\"media-heading\"><a class=\"url u-url org p-name fn\" href=\"/venue/the-vanguard-sydney2\">The Vanguard</a></h3>\n",
      "<p class=\"location p-adr h-adr adr\"><span class=\"p-street-address street-address\">42 King St, Newtown, Sydney</span></p>\n",
      "<p>\n",
      "</p>\n",
      "</div>, <div class=\"media-body\">\n",
      "<h3 class=\"media-heading\"><a class=\"url u-url org p-name fn\" href=\"/venue/rock-lily-sydney\">Rock Lily</a></h3>\n",
      "<p class=\"location p-adr h-adr adr\"><span class=\"p-street-address street-address\">80 Pyrmont Street, Pyrmont, Sydney</span></p>\n",
      "<p>\n",
      "</p>\n",
      "</div>, <div class=\"media-body\">\n",
      "<h3 class=\"media-heading\"><a class=\"url u-url org p-name fn\" href=\"/venue/blue-beat-bar-grill-sydney\">Blue Beat Live Club</a></h3>\n",
      "<p class=\"location p-adr h-adr adr\"><span class=\"p-street-address street-address\">16 Cross Steet, Double Bay, Sydney</span></p>\n",
      "<p>\n",
      "</p>\n",
      "</div>, <div class=\"media-body\">\n",
      "<h3 class=\"media-heading\"><a class=\"url u-url org p-name fn\" href=\"/venue/the-soda-factory-sydney\">The Soda Factory</a></h3>\n",
      "<p class=\"location p-adr h-adr adr\"><span class=\"p-street-address street-address\">16 Wentworth St, Surry Hills, Sydney</span></p>\n",
      "<p>\n",
      "</p>\n",
      "</div>, <div class=\"media-body\">\n",
      "<h3 class=\"media-heading\"><a class=\"url u-url org p-name fn\" href=\"/venue/crowbar-sydney\">Crowbar Sydney</a></h3>\n",
      "<p class=\"location p-adr h-adr adr\"><span class=\"p-street-address street-address\">345 Parramatta Rd, Leichhardt, Sydney</span></p>\n",
      "<p>\n",
      "</p>\n",
      "</div>, <div class=\"media-body\">\n",
      "<h3 class=\"media-heading\"><a class=\"url u-url org p-name fn\" href=\"/venue/lazybones-lounge-sydney\">LazyBones Lounge Marrickville</a></h3>\n",
      "<p class=\"location p-adr h-adr adr\"><span class=\"p-street-address street-address\">294 Marrickville Rd, Marrickville, Sydney</span></p>\n",
      "<p>\n",
      "</p>\n",
      "</div>, <div class=\"media-body\">\n",
      "<h3 class=\"media-heading\"><a class=\"url u-url org p-name fn\" href=\"/venue/name-this-bar-sydney\">Name This Bar</a></h3>\n",
      "<p class=\"location p-adr h-adr adr\"><span class=\"p-street-address street-address\">197 Oxford Sreet, Darlinghurst, Sydney CBD, Sydney</span></p>\n",
      "<p>\n",
      "</p>\n",
      "</div>, <div class=\"media-body\">\n",
      "<h3 class=\"media-heading\"><a class=\"url u-url org p-name fn\" href=\"/venue/uts-uni-bar-glasshouse-bar-sydney\">UTS Uni Bar - Glasshouse Bar</a></h3>\n",
      "<p class=\"location p-adr h-adr adr\"><span class=\"p-street-address street-address\">15 Broadway, Ultimo, Sydney</span></p>\n",
      "<p>\n",
      "</p>\n",
      "</div>, <div class=\"media-body\">\n",
      "<h3 class=\"media-heading\"><a class=\"url u-url org p-name fn\" href=\"/venue/the-juniors-malabar-sydney\">The Juniors Malabar</a></h3>\n",
      "<p class=\"location p-adr h-adr adr\"><span class=\"p-street-address street-address\">28 Victoria St., Malabar, Sydney</span></p>\n",
      "<p>\n",
      "</p>\n",
      "</div>, <div class=\"media-body\">\n",
      "<h3 class=\"media-heading\"><a class=\"url u-url org p-name fn\" href=\"/venue/soundworks-studios-sydney\">Soundworks Studios</a></h3>\n",
      "<p class=\"location p-adr h-adr adr\"><span class=\"p-street-address street-address\">18-26 Faversham Street, Marrickville, Sydney</span></p>\n",
      "<p>\n",
      "</p>\n",
      "</div>, <div class=\"media-body\">\n",
      "<h3 class=\"media-heading\"><a class=\"url u-url org p-name fn\" href=\"/venue/the-welcome-hotel-sydney\">The Welcome Hotel</a></h3>\n",
      "<p class=\"location p-adr h-adr adr\"><span class=\"p-street-address street-address\">91 Evans St, Rozelle NSW 2039, Rozelle, Sydney</span></p>\n",
      "<p>\n",
      "</p>\n",
      "</div>, <div class=\"media-body\">\n",
      "<h3 class=\"media-heading\"><a class=\"url u-url org p-name fn\" href=\"/venue/the-russian-club-sydney\">The Russian Club</a></h3>\n",
      "<p class=\"location p-adr h-adr adr\"><span class=\"p-street-address street-address\">5-7 Albert Rd, Strathfield NSW, Strathfield, Sydney</span></p>\n",
      "<p>\n",
      "</p>\n",
      "</div>, <div class=\"media-body\">\n",
      "<h3 class=\"media-heading\"><a class=\"url u-url org p-name fn\" href=\"/venue/belgrave-cartel-sydney\">Belgrave Cartel</a></h3>\n",
      "<p class=\"location p-adr h-adr adr\"><span class=\"p-street-address street-address\">6 Belgrave Street, Manly, Sydney</span></p>\n",
      "<p>\n",
      "</p>\n",
      "</div>, <div class=\"media-body\">\n",
      "<h3 class=\"media-heading\"><a class=\"url u-url org p-name fn\" href=\"/venue/riverside-theatres-parramatta22\">Riverside Theatres</a></h3>\n",
      "<p class=\"location p-adr h-adr adr\"><span class=\"p-street-address street-address\">Cnr Church and Market St, Parramatta, Sydney</span></p>\n",
      "<p>\n",
      "</p>\n",
      "</div>, <div class=\"media-body\">\n",
      "<h3 class=\"media-heading\"><a class=\"url summary\" href=\"/2019/food-addicts-in-recovery-anonymous-meeting/sydney/eastern-suburbs\">Food Addicts In Recovery Anonymous Meeting</a></h3>\n",
      "<p class=\"location vcard\">\n",
      "<a class=\"location\" href=\"/venue/salvation-army-welfare-centre-sydney\">Salvation Army Welfare Centre</a>, Maroubra, New South Wales    </p>\n",
      "<p class=\"dtstart\">\n",
      "<span class=\"dtstart\">\n",
      "<span class=\"value-title\" title=\"2020-10-02T10:00:00+10:00\">\n",
      "          Fri  2 Oct 10:00am        </span>\n",
      "</span>\n",
      "       – <a href=\"/2019/food-addicts-in-recovery-anonymous-meeting/sydney/eastern-suburbs\">more dates</a>\n",
      "</p>\n",
      "</div>, <div class=\"media-body\">\n",
      "<h3 class=\"media-heading\"><a class=\"url summary\" href=\"/2019/classic-conjuring-magic-at-its-close-up-best/sydney\">Classic Conjuring: Magic At Its Close-Up Best: POSTPONED</a></h3>\n",
      "<p class=\"location vcard\">\n",
      "<a class=\"location\" href=\"/venue/the-castlereagh-boutique-hotel-adam-room-sydney\">The Castlereagh Boutique Hotel</a>, Sydney CBD, New South Wales    </p>\n",
      "<p class=\"dtstart\">\n",
      "<span class=\"dtstart\">\n",
      "<span class=\"value-title\" title=\"2020-10-16T19:00:00+11:00\">\n",
      "          Fri 16 Oct 7:00pm        </span>\n",
      "</span>\n",
      "       – <a href=\"/2019/classic-conjuring-magic-at-its-close-up-best/sydney\">more dates</a>\n",
      "</p>\n",
      "</div>, <div class=\"media-body\">\n",
      "<h3 class=\"media-heading\"><a class=\"url summary\" href=\"/2019/hornsby-inns-open-mic-night/sydney/hornsby\">Hornsby Inns Open Mic Night</a></h3>\n",
      "<p class=\"location vcard\">\n",
      "<a class=\"location\" href=\"/venue/the-hornsby-inn-sydney\">The Hornsby Inn</a>, Hornsby, New South Wales    </p>\n",
      "<p class=\"dtstart\">\n",
      "<span class=\"dtstart\">\n",
      "<span class=\"value-title\" title=\"2020-10-07T19:00:00+11:00\">\n",
      "          Wed  7 Oct 7:00pm        </span>\n",
      "</span>\n",
      "       – <a href=\"/2019/hornsby-inns-open-mic-night/sydney/hornsby\">more dates</a>\n",
      "</p>\n",
      "</div>, <div class=\"media-body\">\n",
      "<h3 class=\"media-heading\"><a class=\"url summary\" href=\"/2021/steve-hackett/sydney/newtown\">Steve Hackett – Genesis Revisited 2021</a></h3>\n",
      "<p class=\"location vcard\">\n",
      "<a class=\"location\" href=\"/venue/enmore-theatre-newtown\">Enmore Theatre</a>, Newtown, New South Wales    </p>\n",
      "<p class=\"dtstart\">\n",
      "<span class=\"dtstart\">\n",
      "<span class=\"value-title\" title=\"2021-05-26T20:00:00+10:00\">\n",
      "          Wed 26 May 2021 8:00pm        </span>\n",
      "</span>\n",
      "</p>\n",
      "</div>, <div class=\"media-body\">\n",
      "<h3 class=\"media-heading\"><a class=\"url summary\" href=\"/2020/hospitality-design-fair/sydney/darling-harbour\">Hospitality Design Fair</a></h3>\n",
      "<p class=\"location vcard\">\n",
      "<a class=\"location\" href=\"/venue/international-convention-centre-sydney\">International Convention Centre Sydney</a>, Darling Harbour, New South Wales    </p>\n",
      "<p class=\"dtstart\">\n",
      "<span class=\"dtstart\">\n",
      "<span class=\"value-title\" title=\"2021-03-23T10:00:00+11:00\">\n",
      "          Tue 23 Mar 2021 10:00am        </span>\n",
      "</span>\n",
      "       – <a href=\"/2020/hospitality-design-fair/sydney/darling-harbour\">more dates</a>\n",
      "</p>\n",
      "</div>]\n"
     ]
    }
   ],
   "source": [
    "venue_address = soup.find_all('span',{'class':\"p-street-address street-address\"})\n"
   ]
  },
  {
   "cell_type": "code",
   "execution_count": null,
   "metadata": {},
   "outputs": [],
   "source": [
    "    "
   ]
  }
 ],
 "metadata": {
  "kernelspec": {
   "display_name": "Python 3",
   "language": "python",
   "name": "python3"
  },
  "language_info": {
   "codemirror_mode": {
    "name": "ipython",
    "version": 3
   },
   "file_extension": ".py",
   "mimetype": "text/x-python",
   "name": "python",
   "nbconvert_exporter": "python",
   "pygments_lexer": "ipython3",
   "version": "3.7.6"
  }
 },
 "nbformat": 4,
 "nbformat_minor": 4
}
